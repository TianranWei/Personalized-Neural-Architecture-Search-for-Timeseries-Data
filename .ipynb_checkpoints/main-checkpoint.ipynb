{
 "cells": [
  {
   "cell_type": "code",
   "execution_count": 5,
   "metadata": {
    "scrolled": true
   },
   "outputs": [
    {
     "name": "stderr",
     "output_type": "stream",
     "text": [
      "/usr/local/anaconda3/lib/python3.7/site-packages/ipykernel_launcher.py:32: YAMLLoadWarning: calling yaml.load() without Loader=... is deprecated, as the default Loader is unsafe. Please read https://msg.pyyaml.org/load for full details.\n",
      "\n",
      "  0%|          | 0/14 [00:00<?, ?it/s]\u001b[A/usr/local/anaconda3/lib/python3.7/site-packages/sklearn/utils/validation.py:724: DataConversionWarning: A column-vector y was passed when a 1d array was expected. Please change the shape of y to (n_samples, ), for example using ravel().\n",
      "  y = column_or_1d(y, warn=True)\n",
      "/usr/local/anaconda3/lib/python3.7/site-packages/sklearn/utils/validation.py:724: DataConversionWarning: A column-vector y was passed when a 1d array was expected. Please change the shape of y to (n_samples, ), for example using ravel().\n",
      "  y = column_or_1d(y, warn=True)\n",
      "\n",
      " 14%|█▍        | 2/14 [00:00<00:00, 16.52it/s]\u001b[A/usr/local/anaconda3/lib/python3.7/site-packages/sklearn/utils/validation.py:724: DataConversionWarning: A column-vector y was passed when a 1d array was expected. Please change the shape of y to (n_samples, ), for example using ravel().\n",
      "  y = column_or_1d(y, warn=True)\n"
     ]
    },
    {
     "name": "stdout",
     "output_type": "stream",
     "text": [
      "Train the pointwise Ranker\n",
      "Train the pointwise Ranker\n",
      "Train the pointwise Ranker\n"
     ]
    },
    {
     "name": "stderr",
     "output_type": "stream",
     "text": [
      "/usr/local/anaconda3/lib/python3.7/site-packages/sklearn/utils/validation.py:724: DataConversionWarning: A column-vector y was passed when a 1d array was expected. Please change the shape of y to (n_samples, ), for example using ravel().\n",
      "  y = column_or_1d(y, warn=True)\n",
      "\n",
      " 29%|██▊       | 4/14 [00:00<00:01,  6.72it/s]\u001b[A/usr/local/anaconda3/lib/python3.7/site-packages/sklearn/utils/validation.py:724: DataConversionWarning: A column-vector y was passed when a 1d array was expected. Please change the shape of y to (n_samples, ), for example using ravel().\n",
      "  y = column_or_1d(y, warn=True)\n"
     ]
    },
    {
     "name": "stdout",
     "output_type": "stream",
     "text": [
      "Train the pointwise Ranker\n",
      "Train the pointwise Ranker\n"
     ]
    },
    {
     "name": "stderr",
     "output_type": "stream",
     "text": [
      "\n",
      " 36%|███▌      | 5/14 [00:02<00:05,  1.60it/s]\u001b[A/usr/local/anaconda3/lib/python3.7/site-packages/sklearn/utils/validation.py:724: DataConversionWarning: A column-vector y was passed when a 1d array was expected. Please change the shape of y to (n_samples, ), for example using ravel().\n",
      "  y = column_or_1d(y, warn=True)\n"
     ]
    },
    {
     "name": "stdout",
     "output_type": "stream",
     "text": [
      "Train the pointwise Ranker\n"
     ]
    },
    {
     "name": "stderr",
     "output_type": "stream",
     "text": [
      "\n",
      " 43%|████▎     | 6/14 [00:05<00:10,  1.33s/it]\u001b[A/usr/local/anaconda3/lib/python3.7/site-packages/sklearn/utils/validation.py:724: DataConversionWarning: A column-vector y was passed when a 1d array was expected. Please change the shape of y to (n_samples, ), for example using ravel().\n",
      "  y = column_or_1d(y, warn=True)\n"
     ]
    },
    {
     "name": "stdout",
     "output_type": "stream",
     "text": [
      "Train the pointwise Ranker\n"
     ]
    },
    {
     "name": "stderr",
     "output_type": "stream",
     "text": [
      "\n",
      " 50%|█████     | 7/14 [00:10<00:16,  2.33s/it]\u001b[A/usr/local/anaconda3/lib/python3.7/site-packages/sklearn/utils/validation.py:724: DataConversionWarning: A column-vector y was passed when a 1d array was expected. Please change the shape of y to (n_samples, ), for example using ravel().\n",
      "  y = column_or_1d(y, warn=True)\n"
     ]
    },
    {
     "name": "stdout",
     "output_type": "stream",
     "text": [
      "Train the pointwise Ranker\n"
     ]
    },
    {
     "name": "stderr",
     "output_type": "stream",
     "text": [
      "\n",
      " 57%|█████▋    | 8/14 [00:19<00:26,  4.39s/it]\u001b[A/usr/local/anaconda3/lib/python3.7/site-packages/sklearn/utils/validation.py:724: DataConversionWarning: A column-vector y was passed when a 1d array was expected. Please change the shape of y to (n_samples, ), for example using ravel().\n",
      "  y = column_or_1d(y, warn=True)\n"
     ]
    },
    {
     "name": "stdout",
     "output_type": "stream",
     "text": [
      "Train the pointwise Ranker\n"
     ]
    },
    {
     "name": "stderr",
     "output_type": "stream",
     "text": [
      "\n",
      " 64%|██████▍   | 9/14 [00:32<00:35,  7.12s/it]\u001b[A/usr/local/anaconda3/lib/python3.7/site-packages/sklearn/utils/validation.py:724: DataConversionWarning: A column-vector y was passed when a 1d array was expected. Please change the shape of y to (n_samples, ), for example using ravel().\n",
      "  y = column_or_1d(y, warn=True)\n"
     ]
    },
    {
     "name": "stdout",
     "output_type": "stream",
     "text": [
      "Train the pointwise Ranker\n"
     ]
    },
    {
     "name": "stderr",
     "output_type": "stream",
     "text": [
      "\n",
      " 71%|███████▏  | 10/14 [00:46<00:36,  9.04s/it]\u001b[A/usr/local/anaconda3/lib/python3.7/site-packages/sklearn/utils/validation.py:724: DataConversionWarning: A column-vector y was passed when a 1d array was expected. Please change the shape of y to (n_samples, ), for example using ravel().\n",
      "  y = column_or_1d(y, warn=True)\n"
     ]
    },
    {
     "name": "stdout",
     "output_type": "stream",
     "text": [
      "Train the pointwise Ranker\n"
     ]
    },
    {
     "name": "stderr",
     "output_type": "stream",
     "text": [
      "\n",
      " 79%|███████▊  | 11/14 [01:02<00:33, 11.26s/it]\u001b[A/usr/local/anaconda3/lib/python3.7/site-packages/sklearn/utils/validation.py:724: DataConversionWarning: A column-vector y was passed when a 1d array was expected. Please change the shape of y to (n_samples, ), for example using ravel().\n",
      "  y = column_or_1d(y, warn=True)\n"
     ]
    },
    {
     "name": "stdout",
     "output_type": "stream",
     "text": [
      "Train the pointwise Ranker\n"
     ]
    },
    {
     "name": "stderr",
     "output_type": "stream",
     "text": [
      "\n",
      " 86%|████████▌ | 12/14 [01:19<00:25, 12.84s/it]\u001b[A/usr/local/anaconda3/lib/python3.7/site-packages/sklearn/utils/validation.py:724: DataConversionWarning: A column-vector y was passed when a 1d array was expected. Please change the shape of y to (n_samples, ), for example using ravel().\n",
      "  y = column_or_1d(y, warn=True)\n"
     ]
    },
    {
     "name": "stdout",
     "output_type": "stream",
     "text": [
      "Train the pointwise Ranker\n"
     ]
    },
    {
     "name": "stderr",
     "output_type": "stream",
     "text": [
      "\n",
      " 93%|█████████▎| 13/14 [01:36<00:13, 13.98s/it]\u001b[A/usr/local/anaconda3/lib/python3.7/site-packages/sklearn/utils/validation.py:724: DataConversionWarning: A column-vector y was passed when a 1d array was expected. Please change the shape of y to (n_samples, ), for example using ravel().\n",
      "  y = column_or_1d(y, warn=True)\n"
     ]
    },
    {
     "name": "stdout",
     "output_type": "stream",
     "text": [
      "Train the pointwise Ranker\n"
     ]
    },
    {
     "name": "stderr",
     "output_type": "stream",
     "text": [
      "\n",
      "100%|██████████| 14/14 [01:53<00:00,  8.11s/it]\u001b[A\n"
     ]
    }
   ],
   "source": [
    "import pandas as pd\n",
    "import numpy as np\n",
    "import yaml\n",
    "import datetime\n",
    "import seaborn as sns\n",
    "from sklearn.metrics import mean_squared_error, r2_score\n",
    "from sklearn.model_selection import train_test_split\n",
    "import matplotlib.pyplot as plt\n",
    "from sklearn.svm import SVR\n",
    "from sklearn.preprocessing import MinMaxScaler\n",
    "import math\n",
    "\n",
    "from tqdm import tqdm\n",
    "\n",
    "from config import RANKER, POINTWISE_EPSILON, POINTWISE_C, POINTWISE_KERNEL, PAIRWISE_BATCH_SIZE, PAIRWISE_EPOCHS\n",
    "from ranker.pairwise import ComparisonCreator, RankNet\n",
    "from ranker.pointwise import SupportVectorRegression, PointwiseNN\n",
    "\n",
    "\n",
    "def visualize_model(model_name:str, data):\n",
    "    data['index'] = data.index\n",
    "    data = data.melt('index')\n",
    "    ax = sns.lineplot(x='index', y=\"value\", hue=\"variable\", data=data)\n",
    "    plt.show()\n",
    "\n",
    "\n",
    "if __name__ == '__main__':\n",
    "\n",
    "    #np.random.seed(seed=21203)\n",
    "\n",
    "    df = pd.read_csv('./resources/flughafen/data.csv', sep=\";\")\n",
    "    config = yaml.load(open('./resources/flughafen/config.yml'))\n",
    "    time_regex = config['config']['timestamp_regex']\n",
    "    df['timestamp'] = df['timestamp'].apply(lambda x: datetime.datetime.strptime(x, time_regex))\n",
    "\n",
    "    x = df.drop('value',axis =1)\n",
    "    y = df['value']\n",
    "    x_train, x_test, y_train, y_test = train_test_split(x,y,test_size=0.2,random_state=1)\n",
    "\n",
    "    # create a 2d array to save y\n",
    "    y_array = np.array(y_test, ndmin=2)\n",
    "    for i in range(999):\n",
    "        y_array = np.concatenate([np.array(y_test, ndmin=2), y_array])\n",
    "\n",
    "    # initialize a 2d array to save y^\n",
    "    initializer = np.random.normal(100, 1, 6790)\n",
    "    prediction_array = np.array(initializer, ndmin=2)\n",
    "\n",
    "    # Select the sigma randomly in the range of (std*0.75, std*1.25)\n",
    "    std = np.sqrt(np.var(y_train))\n",
    "    sigma = np.random.uniform(std * 0.9, std * 1.1, 1000).tolist()\n",
    "\n",
    "    model = []\n",
    "    y = []\n",
    "    MSE_model = []\n",
    "    R2_model = []\n",
    "    RMSE_model = []\n",
    "    counter = 1\n",
    "\n",
    "    # iterate mu and sigma 1000 times to simulate 1000 models and calculate the mse\n",
    "    for mu, sigma in zip(y_test, sigma):\n",
    "        prediction = np.random.normal(mu, sigma, 6790)\n",
    "        # save mse\n",
    "        mse = mean_squared_error(y_test, prediction)\n",
    "        MSE_model.append(mse)\n",
    "        #save r2\n",
    "        r2 = r2_score(y_test, prediction)\n",
    "        R2_model.append(r2)\n",
    "        # save rmse\n",
    "        rmse =np.sqrt(mse)\n",
    "        RMSE_model.append(rmse)\n",
    "\n",
    "        prediction = np.array(prediction, ndmin=2)\n",
    "        # save y^ to a 2d array\n",
    "        prediction_array = np.concatenate([prediction_array, prediction])\n",
    "        # save model name\n",
    "        model.append('Model-%d' % (counter))\n",
    "        counter = counter + 1\n",
    "\n",
    "    # delete the initializer\n",
    "    prediction_array = prediction_array[1:]\n",
    "\n",
    "\n",
    "    # Create dataset for the ranker based on the MSE preference\n",
    "    MSE_2d = np.array([1], ndmin=2)\n",
    "    for i in MSE_model:\n",
    "        MSE_2d_element = np.array(i, ndmin=2)\n",
    "        MSE_2d = np.concatenate([MSE_2d, MSE_2d_element])\n",
    "\n",
    "    MSE_2d = MSE_2d[1:]\n",
    "\n",
    "    models = {'model': model, 'y': y_array, 'y^': prediction_array, 'MSE': MSE_model, 'R2':R2_model, 'RMSE': RMSE_model}\n",
    "\n",
    "    # CREATE RANKER DATASET\n",
    "\n",
    "    # merge y_ground truth and prediction y for X dataset (ranker)\n",
    "    X = np.concatenate((y_array, prediction_array), axis=1)\n",
    "    #X = prediction_array\n",
    "    y = MSE_2d\n",
    "    #scale X\n",
    "    scaler_X = MinMaxScaler()\n",
    "    X = scaler_X.fit_transform(X=X, y=y)\n",
    "    #scale y\n",
    "    scaler_y = MinMaxScaler()\n",
    "    #y = scaler_y.fit_transform(y)\n",
    "    X_train, X_test, y_train, y_test = train_test_split(X, y, test_size=0.2, random_state=1)\n",
    "\n",
    "    ranker_r2 = []\n",
    "    ranker_mse = []\n",
    "    ranker_rmse = []\n",
    "    ranker_top_k_accs = []\n",
    "\n",
    "\n",
    "    data_count = [1,5,10,100,200,300,400,500,600,700,800,900,1000,2000]\n",
    "    top_k = [1,5,10,50,100]\n",
    "    for i in tqdm(data_count):\n",
    "        # Choose ranking model\n",
    "        if RANKER == 1:\n",
    "            model = SupportVectorRegression(epsilon=POINTWISE_EPSILON,C=POINTWISE_C,kernel=POINTWISE_KERNEL)\n",
    "            print('Train the pointwise Ranker')\n",
    "        elif RANKER == 2:\n",
    "            model = PointwiseNN()\n",
    "            print('Train the Paarwise Ranker')\n",
    "        elif RANKER == 3:\n",
    "            model = RankNet(batch_size=PAIRWISE_BATCH_SIZE, epochs=PAIRWISE_EPOCHS, number_comparisons=i)\n",
    "\n",
    "        # train ranking model\n",
    "        model.fit(X_train=X_train[:i], y_train=y_train[:i])\n",
    "\n",
    "        #predict ranking model\n",
    "        y_pred = model.predict(X=X_test)\n",
    "\n",
    "        order_y_test = np.argsort(y_test,axis=0)[::-1]\n",
    "        order_y_pred = np.argsort(y_pred, axis=0)[::-1]\n",
    "        order_y_test_norm = np.argsort(y_test,axis=0)[::-1]/200\n",
    "        order_y_pred_norm = np.argsort(y_pred, axis=0)[::-1]/200\n",
    "        acc_top_k = []\n",
    "        \n",
    "        # Check the rate that the top k elements are correctly ranked.\n",
    "        for k in top_k:\n",
    "            top_k_index_test_set = []\n",
    "            true_top_k = 0  \n",
    "            # Find the index of top k elements in the test array.\n",
    "            for i in list(order_y_test):\n",
    "                if int(i) <=k: \n",
    "                    top_k_index_test_set.append(list(order_y_test).index(i))  \n",
    "\n",
    "            for o in list(order_y_pred):\n",
    "                # if o are in top k\n",
    "                if int(o) <= k:\n",
    "                    # check if the index of o is in the index array of top k elements in test set\n",
    "                    # if true, if s correctly ranked\n",
    "                    if list(order_y_pred).index(o) in top_k_index_test_set:\n",
    "                        true_top_k += 1\n",
    "            acc = float(true_top_k) / float(k)\n",
    "            acc_top_k.append(acc)\n",
    "        \n",
    "        #append results\n",
    "        ranker_top_k_accs.append(acc_top_k)\n",
    "        ranker_r2.append(r2_score(y_true=y_test,y_pred=y_pred))\n",
    "        ranker_mse.append(mean_squared_error(y_true=order_y_test_norm,y_pred=order_y_pred_norm))\n",
    "        ranker_rmse.append(math.sqrt(mean_squared_error(y_true=y_test, y_pred=y_pred)))\n",
    "      \n",
    "            \n",
    "   \n",
    "        \n",
    "        \n",
    "\n",
    "    results= {'data_count':data_count,\n",
    "              'r2':ranker_r2,\n",
    "              'mse':ranker_mse,\n",
    "              'rmse':ranker_rmse,\n",
    "              }\n",
    "    #append top k\n",
    "    for tk, val in enumerate(top_k):\n",
    "        results['acc_top_'+str(val)] = [i[tk] for i in ranker_top_k_accs]\n",
    "\n",
    "    \n"
   ]
  },
  {
   "cell_type": "code",
   "execution_count": 6,
   "metadata": {},
   "outputs": [
    {
     "data": {
      "image/png": "[encoded data removed]",
      "text/plain": [
       "<Figure size 432x288 with 1 Axes>"
      ]
     },
     "metadata": {
      "needs_background": "light"
     },
     "output_type": "display_data"
    },
    {
     "data": {
      "image/png": "[encoded data removed]",
      "text/plain": [
       "<Figure size 432x288 with 1 Axes>"
      ]
     },
     "metadata": {
      "needs_background": "light"
     },
     "output_type": "display_data"
    },
    {
     "data": {
      "image/png": "[encoded data removed]",
      "text/plain": [
       "<Figure size 432x288 with 1 Axes>"
      ]
     },
     "metadata": {
      "needs_background": "light"
     },
     "output_type": "display_data"
    },
    {
     "data": {
      "image/png": "[encoded data removed]",
      "text/plain": [
       "<Figure size 432x288 with 1 Axes>"
      ]
     },
     "metadata": {
      "needs_background": "light"
     },
     "output_type": "display_data"
    }
   ],
   "source": [
    "results = pd.DataFrame(data=results)\n",
    "results['index'] = results.index\n",
    "ax_1 = sns.lineplot(x='data_count', y=\"r2\", data=results)\n",
    "plt.title('R2 Ranking Error (Regression)')\n",
    "plt.show()\n",
    "ax_2 = sns.lineplot(x='data_count', y='mse', data=results)\n",
    "plt.title('MSE Ranking Error (Paarweise)')\n",
    "plt.show()\n",
    "ax_3 = sns.lineplot(x='data_count', y='rmse', data=results)\n",
    "plt.title('RMSE Ranking Error (Regression)')\n",
    "plt.show()\n",
    "#plot_top_k\n",
    "results_top_k = {'data_count': data_count}\n",
    "for tk, val in enumerate(top_k):\n",
    "    results_top_k['acc_top_' + str(val)] = [i[tk] for i in ranker_top_k_accs]\n",
    "results_top_k = pd.DataFrame(results_top_k)\n",
    "\n",
    "sns.lineplot(x='data_count', y='value', hue='variable',\n",
    "                data=pd.melt(results_top_k, ['data_count']))\n",
    "plt.title('Top k Accuracy(Paarweise)')\n",
    "plt.show()"
   ]
  },
  {
   "cell_type": "code",
   "execution_count": null,
   "metadata": {},
   "outputs": [],
   "source": [
    "# Check the rate that the top k elements are correctly ranked.\n",
    "        for k in top_k:\n",
    "            top_k_index_test_set = []\n",
    "            true_top_k = 0  \n",
    "            # Find the index of top k elements in the test array.\n",
    "            for i in list(order_y_test):\n",
    "                if int(i) <=k: \n",
    "                    top_k_index_test_set.append(list(order_y_test).index(i))  \n",
    "\n",
    "            for o in list(order_y_pred):\n",
    "                # if o are in top k\n",
    "                if int(o) <= k:\n",
    "                    # check if the index of o is in the index array of top k elements in test set\n",
    "                    # if true, if s correctly ranked\n",
    "                    if list(order_y_pred).index(o) in top_k_index_test_set:\n",
    "                        true_top_k += 1\n",
    "            acc = float(true_top_k) / float(k)\n",
    "            acc_top_k.append(acc)"
   ]
  },
  {
   "cell_type": "code",
   "execution_count": null,
   "metadata": {},
   "outputs": [],
   "source": [
    "for k in top_k:\n",
    "            true_top_k = 0\n",
    "            # for loop for all top_k\n",
    "            for o in list(order_y_pred)[:k]:\n",
    "                if int(o) in order_y_test[:k]:\n",
    "                    true_top_k += 1\n",
    "            acc = float(true_top_k) / float(k)\n",
    "            acc_top_k.append(acc)"
   ]
  }
 ],
 "metadata": {
  "kernelspec": {
   "display_name": "Python 3",
   "language": "python",
   "name": "python3"
  },
  "language_info": {
   "codemirror_mode": {
    "name": "ipython",
    "version": 3
   },
   "file_extension": ".py",
   "mimetype": "text/x-python",
   "name": "python",
   "nbconvert_exporter": "python",
   "pygments_lexer": "ipython3",
   "version": "3.7.4"
  },
  "varInspector": {
   "cols": {
    "lenName": 16,
    "lenType": 16,
    "lenVar": 40
   },
   "kernels_config": {
    "python": {
     "delete_cmd_postfix": "",
     "delete_cmd_prefix": "del ",
     "library": "var_list.py",
     "varRefreshCmd": "print(var_dic_list())"
    },
    "r": {
     "delete_cmd_postfix": ") ",
     "delete_cmd_prefix": "rm(",
     "library": "var_list.r",
     "varRefreshCmd": "cat(var_dic_list()) "
    }
   },
   "types_to_exclude": [
    "module",
    "function",
    "builtin_function_or_method",
    "instance",
    "_Feature"
   ],
   "window_display": false
  }
 },
 "nbformat": 4,
 "nbformat_minor": 2
}
